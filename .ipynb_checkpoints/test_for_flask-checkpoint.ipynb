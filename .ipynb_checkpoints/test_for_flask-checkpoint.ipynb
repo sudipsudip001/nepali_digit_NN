{
 "cells": [
  {
   "cell_type": "code",
   "execution_count": 2,
   "id": "29a31d0a-e3bd-4dc7-a43c-2e60a1e6e0e5",
   "metadata": {},
   "outputs": [],
   "source": [
    "import numpy as np\n",
    "data = np.load('digit_classifier.npz')\n",
    "w1 = data['w1']\n",
    "b1 = data['b1']\n",
    "w2 = data['w2']\n",
    "b2 = data['b2']"
   ]
  },
  {
   "cell_type": "code",
   "execution_count": 9,
   "id": "30342bf5-9769-4df6-b5c1-2c72e4b9bf6b",
   "metadata": {},
   "outputs": [],
   "source": [
    "def relu(z):\n",
    "    return np.maximum(0, z)\n",
    "\n",
    "def softmax(z):\n",
    "    val = np.exp(z)/ sum(np.exp(z))\n",
    "    return val"
   ]
  },
  {
   "cell_type": "code",
   "execution_count": 10,
   "id": "0714374c-cc9f-4538-8dc5-2f6a270b26dd",
   "metadata": {},
   "outputs": [],
   "source": [
    "def forward(w1, b1, w2, b2, data):\n",
    "    z1 = w1.dot(data) + b1\n",
    "    a1 = relu(z1)\n",
    "    z2 = w2.dot(a1) + b2\n",
    "    a2 = softmax(z2)\n",
    "    return z1, a1, z2, a2"
   ]
  },
  {
   "cell_type": "code",
   "execution_count": 18,
   "id": "4434e7d8-8e2b-465c-8b23-083c4532ef84",
   "metadata": {},
   "outputs": [
    {
     "name": "stdout",
     "output_type": "stream",
     "text": [
      "(1024, 1)\n"
     ]
    }
   ],
   "source": [
    "from PIL import Image\n",
    "image = Image.open('hand.jpg').convert('L')\n",
    "image = image.resize((32, 32))\n",
    "img_array = np.array(image)\n",
    "img_array = img_array / 255.\n",
    "img_flattened = img_array.reshape(1024, 1)\n",
    "print(img_flattened.shape)"
   ]
  },
  {
   "cell_type": "code",
   "execution_count": 24,
   "id": "be69982f-400b-4f66-a1e6-43e25f268fe5",
   "metadata": {},
   "outputs": [],
   "source": [
    "def inNepali(val):\n",
    "    words = ['क', 'ख', 'ग', 'घ', 'ङ', 'च', 'छ', 'ज', 'झ', 'ञ', 'ट', 'ठ', 'ड', 'ढ', 'ण', 'त', 'थ', 'द', 'ध', 'न', 'प', 'फ', 'ब', 'भ', \n",
    "             'म', 'य', 'र', 'ल', 'व', 'श', 'ष', 'स', 'ह', 'क्ष', 'त्र', 'ज्ञ', '०', '१', '२', '३', '४', '५', '६', '७', '८', '९']\n",
    "    return words[val]"
   ]
  },
  {
   "cell_type": "code",
   "execution_count": 25,
   "id": "ee8a6610-9ae5-4473-93db-805cc17ef345",
   "metadata": {},
   "outputs": [
    {
     "name": "stdout",
     "output_type": "stream",
     "text": [
      "ध\n"
     ]
    }
   ],
   "source": [
    "# pass img_flattened if the size is right\n",
    "_, _, _, a2 = forward(w1, b1, w2, b2, img_flattened)\n",
    "print(inNepali(np.argmax(a2)))"
   ]
  },
  {
   "cell_type": "code",
   "execution_count": null,
   "id": "f43b2fa4-9b5b-415a-ab23-0e86aa9102c4",
   "metadata": {},
   "outputs": [],
   "source": []
  }
 ],
 "metadata": {
  "kernelspec": {
   "display_name": "Python 3 (ipykernel)",
   "language": "python",
   "name": "python3"
  },
  "language_info": {
   "codemirror_mode": {
    "name": "ipython",
    "version": 3
   },
   "file_extension": ".py",
   "mimetype": "text/x-python",
   "name": "python",
   "nbconvert_exporter": "python",
   "pygments_lexer": "ipython3",
   "version": "3.8.19"
  }
 },
 "nbformat": 4,
 "nbformat_minor": 5
}
